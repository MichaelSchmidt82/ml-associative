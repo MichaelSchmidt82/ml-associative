{
 "cells": [
  {
   "cell_type": "code",
   "execution_count": 1,
   "id": "demanding-chorus",
   "metadata": {},
   "outputs": [],
   "source": [
    "import numpy as np\n",
    "import pandas as pd\n",
    "\n",
    "import matplotlib.pyplot as plt\n",
    "from apyori import apriori"
   ]
  },
  {
   "cell_type": "code",
   "execution_count": 2,
   "id": "thrown-boards",
   "metadata": {},
   "outputs": [],
   "source": [
    "dataset = pd.read_csv('market_basket_optimization.csv', header=None)\n",
    "\n",
    "# create a list of transactions\n",
    "transactions: list = []\n",
    "for i in range(len(dataset)):\n",
    "    transactions.append([str(dataset.values[i, j]) for j in range(len(dataset.columns))])"
   ]
  },
  {
   "cell_type": "code",
   "execution_count": 3,
   "id": "systematic-abortion",
   "metadata": {},
   "outputs": [],
   "source": [
    "# min_length == max_length represent a pair of transactions\n",
    "rules = apriori(transactions=transactions, \n",
    "                min_support=0.003, \n",
    "                min_confidence=0.2, \n",
    "                min_lift=3, \n",
    "                min_length=2,\n",
    "                max_length=2)\n",
    "results: list = list(rules)"
   ]
  },
  {
   "cell_type": "code",
   "execution_count": 8,
   "id": "critical-banking",
   "metadata": {},
   "outputs": [],
   "source": [
    "def inspect(results):\n",
    "    lhs = [tuple(result[2][0][0])[0] for result in results]\n",
    "    rhs = [tuple(result[2][0][1])[0] for result in results]\n",
    "    sup = [result[1] for result in results]\n",
    "    return list(zip(lhs, rhs, sup))"
   ]
  },
  {
   "cell_type": "code",
   "execution_count": 9,
   "id": "rolled-antibody",
   "metadata": {},
   "outputs": [
    {
     "data": {
      "text/html": [
       "<div>\n",
       "<style scoped>\n",
       "    .dataframe tbody tr th:only-of-type {\n",
       "        vertical-align: middle;\n",
       "    }\n",
       "\n",
       "    .dataframe tbody tr th {\n",
       "        vertical-align: top;\n",
       "    }\n",
       "\n",
       "    .dataframe thead th {\n",
       "        text-align: right;\n",
       "    }\n",
       "</style>\n",
       "<table border=\"1\" class=\"dataframe\">\n",
       "  <thead>\n",
       "    <tr style=\"text-align: right;\">\n",
       "      <th></th>\n",
       "      <th>Left Hand Side</th>\n",
       "      <th>Right Hand Side</th>\n",
       "      <th>Supports</th>\n",
       "    </tr>\n",
       "  </thead>\n",
       "  <tbody>\n",
       "    <tr>\n",
       "      <th>4</th>\n",
       "      <td>herb &amp; pepper</td>\n",
       "      <td>ground beef</td>\n",
       "      <td>0.015998</td>\n",
       "    </tr>\n",
       "    <tr>\n",
       "      <th>7</th>\n",
       "      <td>whole wheat pasta</td>\n",
       "      <td>olive oil</td>\n",
       "      <td>0.007999</td>\n",
       "    </tr>\n",
       "    <tr>\n",
       "      <th>2</th>\n",
       "      <td>pasta</td>\n",
       "      <td>escalope</td>\n",
       "      <td>0.005866</td>\n",
       "    </tr>\n",
       "    <tr>\n",
       "      <th>1</th>\n",
       "      <td>mushroom cream sauce</td>\n",
       "      <td>escalope</td>\n",
       "      <td>0.005733</td>\n",
       "    </tr>\n",
       "    <tr>\n",
       "      <th>5</th>\n",
       "      <td>tomato sauce</td>\n",
       "      <td>ground beef</td>\n",
       "      <td>0.005333</td>\n",
       "    </tr>\n",
       "    <tr>\n",
       "      <th>8</th>\n",
       "      <td>pasta</td>\n",
       "      <td>shrimp</td>\n",
       "      <td>0.005066</td>\n",
       "    </tr>\n",
       "    <tr>\n",
       "      <th>0</th>\n",
       "      <td>light cream</td>\n",
       "      <td>chicken</td>\n",
       "      <td>0.004533</td>\n",
       "    </tr>\n",
       "    <tr>\n",
       "      <th>3</th>\n",
       "      <td>fromage blanc</td>\n",
       "      <td>honey</td>\n",
       "      <td>0.003333</td>\n",
       "    </tr>\n",
       "    <tr>\n",
       "      <th>6</th>\n",
       "      <td>light cream</td>\n",
       "      <td>olive oil</td>\n",
       "      <td>0.003200</td>\n",
       "    </tr>\n",
       "  </tbody>\n",
       "</table>\n",
       "</div>"
      ],
      "text/plain": [
       "         Left Hand Side Right Hand Side  Supports\n",
       "4         herb & pepper     ground beef  0.015998\n",
       "7     whole wheat pasta       olive oil  0.007999\n",
       "2                 pasta        escalope  0.005866\n",
       "1  mushroom cream sauce        escalope  0.005733\n",
       "5          tomato sauce     ground beef  0.005333\n",
       "8                 pasta          shrimp  0.005066\n",
       "0           light cream         chicken  0.004533\n",
       "3         fromage blanc           honey  0.003333\n",
       "6           light cream       olive oil  0.003200"
      ]
     },
     "execution_count": 9,
     "metadata": {},
     "output_type": "execute_result"
    }
   ],
   "source": [
    "df = pd.DataFrame(inspect(results), columns=['Left Hand Side', 'Right Hand Side', 'Supports'])\n",
    "df.nlargest(n=10, columns='Supports')"
   ]
  },
  {
   "cell_type": "code",
   "execution_count": null,
   "id": "compound-services",
   "metadata": {},
   "outputs": [],
   "source": []
  },
  {
   "cell_type": "code",
   "execution_count": null,
   "id": "passing-cosmetic",
   "metadata": {},
   "outputs": [],
   "source": []
  }
 ],
 "metadata": {
  "kernelspec": {
   "display_name": "Python (data-sci)",
   "language": "python",
   "name": "data-sci"
  },
  "language_info": {
   "codemirror_mode": {
    "name": "ipython",
    "version": 3
   },
   "file_extension": ".py",
   "mimetype": "text/x-python",
   "name": "python",
   "nbconvert_exporter": "python",
   "pygments_lexer": "ipython3",
   "version": "3.9.0"
  }
 },
 "nbformat": 4,
 "nbformat_minor": 5
}
